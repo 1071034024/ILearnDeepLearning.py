{
 "cells": [
  {
   "cell_type": "markdown",
   "metadata": {},
   "source": [
    "# Numpy deep deural network"
   ]
  },
  {
   "cell_type": "markdown",
   "metadata": {},
   "source": [
    "### Imports"
   ]
  },
  {
   "cell_type": "code",
   "execution_count": 1,
   "metadata": {},
   "outputs": [],
   "source": [
    "import numpy as np"
   ]
  },
  {
   "cell_type": "markdown",
   "metadata": {},
   "source": [
    "### Settings"
   ]
  },
  {
   "cell_type": "code",
   "execution_count": 3,
   "metadata": {},
   "outputs": [],
   "source": [
    "LAYERS_SIZE = [2, 4, 6, 6, 4, 1]"
   ]
  },
  {
   "cell_type": "code",
   "execution_count": 5,
   "metadata": {},
   "outputs": [],
   "source": [
    "class NeuralNet:\n",
    "    # list that stores the number of units in each layer\n",
    "    layers_units_count = []\n",
    "    # dictionary that stores the parameter values for each layer\n",
    "    layers_params_values = {}\n",
    "    \n",
    "    def __init__(self, layers_units_count):\n",
    "        self.layers_units_count = layers_units_count\n",
    "        self.init_layers_params_values()\n",
    "    \n",
    "    def init_layers_params_values(self, seed = 99):\n",
    "        # random seed initiation\n",
    "        np.random.seed(seed)\n",
    "        # number of layers in our neural network\n",
    "        number_of_layers = len(self.layers_units_count)\n",
    "        # parameters storage\n",
    "        self.layers_params_values = {}\n",
    "\n",
    "        for layer in (1, self.layers_units_count):\n",
    "            current_layer_size = self.layers_units_count[l]\n",
    "            previous_layer_size = self.layers_units_count[l - 1]\n",
    "            \n",
    "            self.layers_params_values['W' + str(l)] = np.random.randn(\n",
    "                current_layer_size, previous_layer_size) * 0.01\n",
    "            \n",
    "            self.layers_params_values['b' + str(l)] = np.zeros((current_layer_size, 1))"
   ]
  },
  {
   "cell_type": "code",
   "execution_count": null,
   "metadata": {},
   "outputs": [],
   "source": []
  }
 ],
 "metadata": {
  "kernelspec": {
   "display_name": "Python 3",
   "language": "python",
   "name": "python3"
  },
  "language_info": {
   "codemirror_mode": {
    "name": "ipython",
    "version": 3
   },
   "file_extension": ".py",
   "mimetype": "text/x-python",
   "name": "python",
   "nbconvert_exporter": "python",
   "pygments_lexer": "ipython3",
   "version": "3.5.2"
  }
 },
 "nbformat": 4,
 "nbformat_minor": 2
}
