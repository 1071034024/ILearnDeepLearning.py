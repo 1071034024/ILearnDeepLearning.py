{
 "cells": [
  {
   "cell_type": "markdown",
   "metadata": {},
   "source": [
    "# Advanced Visualisation of Lorenz Attractor\n",
    "---"
   ]
  },
  {
   "cell_type": "markdown",
   "metadata": {},
   "source": [
    "***Author: Piotr Skalski***\n",
    "\n",
    "This notebook is a simple tutorial about creating advanced, animated visualizations using Matplotlib. I will show you step by step how to build a fantastic effect with the help of simple tools."
   ]
  },
  {
   "cell_type": "markdown",
   "metadata": {},
   "source": [
    "### Imports"
   ]
  },
  {
   "cell_type": "code",
   "execution_count": 28,
   "metadata": {},
   "outputs": [],
   "source": [
    "import numpy as np\n",
    "import matplotlib.pyplot as plt\n",
    "from mpl_toolkits.mplot3d import Axes3D\n",
    "\n",
    "import numpy as np\n",
    "import matplotlib.collections as mcoll\n",
    "import matplotlib.path as mpath"
   ]
  },
  {
   "cell_type": "markdown",
   "metadata": {},
   "source": [
    "### Settings"
   ]
  },
  {
   "cell_type": "code",
   "execution_count": 97,
   "metadata": {},
   "outputs": [],
   "source": [
    "# length of the time step\n",
    "DELTA_T = 0.01\n",
    "# number of time steps\n",
    "STEPS = 5000\n",
    "# plot padding\n",
    "PADDING = 2.5\n",
    "# output directory (the folder must be created on the drive)\n",
    "OUTPUT_DIR = \"lorenz_attractor\""
   ]
  },
  {
   "cell_type": "markdown",
   "metadata": {},
   "source": [
    "### Auxiliary functions"
   ]
  },
  {
   "cell_type": "code",
   "execution_count": 98,
   "metadata": {},
   "outputs": [],
   "source": [
    "def lorenz(x, y, z, s=10, r=28, b=2.667):\n",
    "    x_dot = s*(y - x)\n",
    "    y_dot = r*x - y - x*z\n",
    "    z_dot = x*y - b*z\n",
    "    return x_dot, y_dot, z_dot\n",
    "\n",
    "def build_lorenz_trajectory(dt, steps, initial_values=(0., 1., 1.05), s=10, r=28, b=2.667):\n",
    "    xs = np.empty((steps + 1,))\n",
    "    ys = np.empty((steps + 1,))\n",
    "    zs = np.empty((steps + 1,))\n",
    "    \n",
    "    xs[0], ys[0], zs[0] = initial_values\n",
    "    \n",
    "    for i in range(steps):\n",
    "        x_dot, y_dot, z_dot = lorenz(xs[i], ys[i], zs[i])\n",
    "        xs[i + 1] = xs[i] + (x_dot * dt)\n",
    "        ys[i + 1] = ys[i] + (y_dot * dt)\n",
    "        zs[i + 1] = zs[i] + (z_dot * dt)\n",
    "        \n",
    "    return (xs, ys, zs)"
   ]
  },
  {
   "cell_type": "markdown",
   "metadata": {},
   "source": [
    "### Create trajectory data"
   ]
  },
  {
   "cell_type": "code",
   "execution_count": 99,
   "metadata": {},
   "outputs": [],
   "source": [
    "xs, ys, zs = build_lorenz_trajectory(DELTA_T, STEPS)"
   ]
  },
  {
   "cell_type": "markdown",
   "metadata": {},
   "source": [
    "### Render frames"
   ]
  },
  {
   "cell_type": "code",
   "execution_count": null,
   "metadata": {},
   "outputs": [],
   "source": [
    "padding = PADDING\n",
    "\n",
    "plt.style.use('dark_background')\n",
    "fig = plt.figure(figsize=(12,12))\n",
    "ax = fig.gca(projection='3d')\n",
    "ax.xaxis.pane.fill = False\n",
    "ax.yaxis.pane.fill = False\n",
    "ax.zaxis.pane.fill = False\n",
    "\n",
    "ax.set_xlim3d(xs.min() - padding, xs.max() + padding)\n",
    "ax.set_ylim3d(ys.min() - padding, ys.max() + padding)\n",
    "ax.set_zlim3d(zs.min() - padding, zs.max() + padding)\n",
    "\n",
    "ax.set_xlabel(\"X Axis\")\n",
    "ax.set_ylabel(\"Y Axis\")\n",
    "ax.set_zlabel(\"Z Axis\")\n",
    "\n",
    "N = len(zs)\n",
    "# ax.scatter(xs, ys, zs, c = plt.cm.jet(np.linspace(0,1,N)), alpha=0.5)\n",
    "\n",
    "for i in range(N-1):\n",
    "    ax.plot(xs[i:i+2], ys[i:i+2], zs[i:i+2], color=plt.cm.viridis(1-i/N), lw=2)\n",
    "    if(i % 5 == 0):\n",
    "        angle_delta = i/5\n",
    "        ax.view_init(30, 45 + angle_delta)\n",
    "        plt.savefig(\"./\" + OUTPUT_DIR + \"/lorenz_{:0>5d}.png\".format(i))\n",
    "\n",
    "plt.show()"
   ]
  },
  {
   "cell_type": "code",
   "execution_count": null,
   "metadata": {},
   "outputs": [],
   "source": []
  }
 ],
 "metadata": {
  "kernelspec": {
   "display_name": "Python 3",
   "language": "python",
   "name": "python3"
  },
  "language_info": {
   "codemirror_mode": {
    "name": "ipython",
    "version": 3
   },
   "file_extension": ".py",
   "mimetype": "text/x-python",
   "name": "python",
   "nbconvert_exporter": "python",
   "pygments_lexer": "ipython3",
   "version": "3.5.2"
  }
 },
 "nbformat": 4,
 "nbformat_minor": 2
}
